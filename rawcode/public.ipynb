{
 "cells": [
  {
   "cell_type": "markdown",
   "metadata": {
    "_cell_guid": "d45a6783-552f-43e3-92de-5aa2308eca1c",
    "_uuid": "b515f10501eaa05446871059da8fd12ed1093a83"
   },
   "source": [
    "# CV demonstration notebook\n",
    "(based on Fred Navruzov's \"Dumb-and-the-Dumber-Baselines (PLB=0.3276826)\" - https://www.kaggle.com/frednavruzov/dumb-and-the-dumber-baselines-plb-0-3276826.  Some of the code is refactored for less memory use, but the results are unchanged.)"
   ]
  },
  {
   "cell_type": "code",
   "execution_count": 1,
   "metadata": {
    "_cell_guid": "5cfe3d0d-8374-4012-a675-a702e438a346",
    "_execution_state": "idle",
    "_uuid": "deba9d4dcd5a1cf050a69324df9c5119bfaa9aca",
    "collapsed": true
   },
   "outputs": [],
   "source": [
    "import pandas as pd # dataframes\n",
    "import numpy as np # algebra & calculus\n",
    "import nltk # text preprocessing & manipulation\n",
    "# from textblob import TextBlob\n",
    "import matplotlib.pyplot as plt # plotting\n",
    "import seaborn as sns # plotting\n",
    "\n",
    "from functools import partial # to reduce df memory consumption by applying to_numeric\n",
    "\n",
    "color = sns.color_palette() # adjusting plotting style\n",
    "import warnings\n",
    "warnings.filterwarnings('ignore') # silence annoying warnings"
   ]
  },
  {
   "cell_type": "code",
   "execution_count": 2,
   "metadata": {
    "_cell_guid": "d76f4562-1b32-4d70-ad24-930eb2488589",
    "_execution_state": "idle",
    "_uuid": "ece4a149a1d8c344b5f78b38f3b51792c5138b82",
    "collapsed": false
   },
   "outputs": [
    {
     "name": "stdout",
     "output_type": "stream",
     "text": [
      "Total aisles: 134\n",
      "Total departments: 21\n",
      "Total products: 49688\n"
     ]
    }
   ],
   "source": [
    "# aisles\n",
    "aisles = pd.read_csv('../input/aisles.csv', engine='c')\n",
    "print('Total aisles: {}'.format(aisles.shape[0]))\n",
    "\n",
    "# departments\n",
    "departments = pd.read_csv('../input/departments.csv', engine='c')\n",
    "print('Total departments: {}'.format(departments.shape[0]))\n",
    "\n",
    "# products\n",
    "products = pd.read_csv('../input/products.csv', engine='c')\n",
    "print('Total products: {}'.format(products.shape[0]))"
   ]
  },
  {
   "cell_type": "code",
   "execution_count": 3,
   "metadata": {
    "_cell_guid": "433631cc-0157-48e9-b8a9-385c7bee6e01",
    "_execution_state": "idle",
    "_uuid": "c179d8c214afd02025b092bc95cc9dc9cb0ce1b3",
    "collapsed": true
   },
   "outputs": [],
   "source": [
    "# combine aisles, departments and products (left joined to products)\n",
    "goods = pd.merge(left=pd.merge(left=products, right=departments, how='left'), right=aisles, how='left')\n",
    "# to retain '-' and make product names more \"standard\"\n",
    "goods.product_name = goods.product_name.str.replace(' ', '_').str.lower() \n",
    "\n",
    "# retype goods to reduce memory usage\n",
    "goods.product_id = goods.product_id.astype(np.int32)\n",
    "goods.aisle_id = goods.aisle_id.astype(np.int16)\n",
    "goods.department_id = goods.department_id.astype(np.int8)"
   ]
  },
  {
   "cell_type": "code",
   "execution_count": 4,
   "metadata": {
    "_cell_guid": "396713fb-6966-448f-81b5-c1a8b2909cad",
    "_execution_state": "idle",
    "_uuid": "50e71dbf9d42b6f1c49ef221831e95f79d969e93",
    "collapsed": false
   },
   "outputs": [
    {
     "name": "stdout",
     "output_type": "stream",
     "text": [
      "Total ordered products(train): 1384617\n"
     ]
    }
   ],
   "source": [
    "# load datasets\n",
    "\n",
    "# train dataset\n",
    "op_train = pd.read_csv('../input/order_products__train.csv', engine='c', \n",
    "                       dtype={'order_id': np.int32, 'product_id': np.int32, \n",
    "                              'add_to_cart_order': np.int16, 'reordered': np.int8})\n",
    "print('Total ordered products(train): {}'.format(op_train.shape[0]))"
   ]
  },
  {
   "cell_type": "code",
   "execution_count": 5,
   "metadata": {
    "_cell_guid": "b5524266-429b-4ea2-bc44-1ef0e6aa40ff",
    "_execution_state": "idle",
    "_uuid": "9a8ea4c04ab05f633f39b42ba8a50084df4b08ad",
    "collapsed": false
   },
   "outputs": [
    {
     "name": "stdout",
     "output_type": "stream",
     "text": [
      "Total orders(test): 75000\n"
     ]
    }
   ],
   "source": [
    "# test dataset (submission)\n",
    "test = pd.read_csv('../input/sample_submission.csv', engine='c')\n",
    "print('Total orders(test): {}'.format(test.shape[0]))"
   ]
  },
  {
   "cell_type": "code",
   "execution_count": 6,
   "metadata": {
    "_cell_guid": "225eae3b-09ad-4c7c-8015-79eca0b2f1d5",
    "_execution_state": "idle",
    "_uuid": "8ba462f1e6c08312763b7fdcadaac8596b0eb261",
    "collapsed": false
   },
   "outputs": [
    {
     "name": "stdout",
     "output_type": "stream",
     "text": [
      "Total ordered products(prior): 32434489\n"
     ]
    }
   ],
   "source": [
    "#prior dataset\n",
    "op_prior = pd.read_csv('../input/order_products__prior.csv', engine='c', \n",
    "                       dtype={'order_id': np.int32, \n",
    "                              'product_id': np.int32, \n",
    "                              'add_to_cart_order': np.int16, \n",
    "                              'reordered': np.int8})\n",
    "\n",
    "print('Total ordered products(prior): {}'.format(op_prior.shape[0]))"
   ]
  },
  {
   "cell_type": "code",
   "execution_count": 7,
   "metadata": {
    "_cell_guid": "edaa1541-8819-4b6a-aa15-004da0e7ddcb",
    "_execution_state": "idle",
    "_uuid": "4a20b4ac57eee0f2fca5160c7e0bc4b454aff0bf",
    "collapsed": false
   },
   "outputs": [
    {
     "name": "stdout",
     "output_type": "stream",
     "text": [
      "Total orders: 3421083\n"
     ]
    }
   ],
   "source": [
    "# orders\n",
    "orders = pd.read_csv('../input/orders.csv', engine='c', dtype={'order_id': np.int32, \n",
    "                                                           'user_id': np.int32, \n",
    "                                                           'order_number': np.int16,  # max 100, could use int8\n",
    "                                                           'order_dow': np.int8, \n",
    "                                                           'order_hour_of_day': np.int8, \n",
    "                                                           'days_since_prior_order': np.float16})\n",
    "print('Total orders: {}'.format(orders.shape[0]))\n",
    "\n",
    "orders.eval_set = orders.eval_set.replace({'prior': 0, 'train': 1, 'test':2}).astype(np.int8)\n",
    "orders.days_since_prior_order = orders.days_since_prior_order.fillna(-1).astype(np.int8)"
   ]
  },
  {
   "cell_type": "code",
   "execution_count": 8,
   "metadata": {
    "_cell_guid": "8d86903f-b51a-4987-84fc-27b268de18c6",
    "_execution_state": "idle",
    "_uuid": "3140a93626ba4a54555984b25d9ec82fcc381bd5",
    "collapsed": false
   },
   "outputs": [
    {
     "name": "stdout",
     "output_type": "stream",
     "text": [
      "((1384617, 12), (1384617, 4))\n"
     ]
    }
   ],
   "source": [
    "from functools import partial\n",
    "\n",
    "# merge train and prior together iteratively, to fit into 8GB kernel RAM\n",
    "# split df indexes into parts\n",
    "indexes = np.linspace(0, len(op_prior), num=10, dtype=np.int32)\n",
    "\n",
    "# initialize it with train dataset\n",
    "train_details = pd.merge(\n",
    "                left=op_train,\n",
    "                 right=orders, \n",
    "                 how='left', \n",
    "                 on='order_id'\n",
    "        ).apply(partial(pd.to_numeric, errors='ignore', downcast='integer'))\n",
    "\n",
    "# add order hierarchy\n",
    "train_details = pd.merge(\n",
    "                left=train_details,\n",
    "                right=goods[['product_id', \n",
    "                             'aisle_id', \n",
    "                             'department_id']].apply(partial(pd.to_numeric, \n",
    "                                                             errors='ignore', \n",
    "                                                             downcast='integer')),\n",
    "                how='left',\n",
    "                on='product_id'\n",
    ")\n",
    "\n",
    "print(train_details.shape, op_train.shape)\n",
    "\n",
    "# delete (redundant now) dataframes\n",
    "#del op_train\n",
    "\n",
    "#order_details.head()"
   ]
  },
  {
   "cell_type": "code",
   "execution_count": 9,
   "metadata": {
    "_cell_guid": "5de11c5c-660d-4453-8fca-7a56eb0a4f2b",
    "_execution_state": "busy",
    "_uuid": "372ba739ab2fe18a85b2518b523483053941dfe7",
    "collapsed": false
   },
   "outputs": [
    {
     "name": "stdout",
     "output_type": "stream",
     "text": [
      "Datafame length: 32434489\n",
      "Memory consumption: 989.82 Mb\n",
      "CPU times: user 6.09 s, sys: 508 ms, total: 6.6 s\n",
      "Wall time: 6.6 s\n"
     ]
    }
   ],
   "source": [
    "%%time\n",
    "# update by small portions\n",
    "order_details = pd.merge(left=pd.merge(\n",
    "                                left=op_prior,\n",
    "                                right=goods[['product_id', \n",
    "                                             'aisle_id', \n",
    "                                             'department_id' ]],\n",
    "                                how='left',\n",
    "                                on='product_id'\n",
    "                                ),\n",
    "                         right=orders, \n",
    "                         how='left', \n",
    "                         on='order_id')\n",
    "        \n",
    "print('Datafame length: {}'.format(order_details.shape[0]))\n",
    "print('Memory consumption: {:.2f} Mb'.format(sum(order_details.memory_usage(index=True, \n",
    "                                                                         deep=True) / 2**20)))\n",
    "# check dtypes to see if we use memory effectively\n",
    "#print(order_details.dtypes)\n",
    "\n",
    "# make sure we didn't forget to retain test dataset :D\n",
    "#test_orders = orders[orders.eval_set == 2]\n"
   ]
  },
  {
   "cell_type": "code",
   "execution_count": 10,
   "metadata": {
    "_cell_guid": "854f4d38-c61a-42d3-8884-9401ca3c159a",
    "_execution_state": "idle",
    "_uuid": "445f748837b9852bd2c223ec52f2332fb4112c7b",
    "collapsed": true
   },
   "outputs": [],
   "source": [
    "train_orders = orders[orders.eval_set == 1]"
   ]
  },
  {
   "cell_type": "code",
   "execution_count": 11,
   "metadata": {
    "_cell_guid": "d52be50b-58e3-4444-8bd5-89163baf1d52",
    "_execution_state": "idle",
    "_uuid": "ea3a5b22dcd8e005f2020d335a767c65bdbbf8e5",
    "collapsed": true
   },
   "outputs": [],
   "source": [
    "# switch to integer train indexes so .loc == .iloc\n",
    "train_orders.index.name = 'raw_order'\n",
    "train_orders.reset_index(inplace=True)"
   ]
  },
  {
   "cell_type": "code",
   "execution_count": 12,
   "metadata": {
    "_cell_guid": "7621316b-786e-42ab-b935-6ec6eb52adfe",
    "_execution_state": "idle",
    "_uuid": "5861857ac883ea2a8fa88db83b00fa55727d2d65",
    "collapsed": true
   },
   "outputs": [],
   "source": [
    "def get_last_orders_reordered(test_orders):\n",
    "    test_history = order_details[(order_details.user_id.isin(test_orders.user_id))]\n",
    "    last_orders = test_history.groupby('user_id')['order_number'].max()\n",
    "    \n",
    "    t = pd.merge(\n",
    "        left=pd.merge(\n",
    "                left=last_orders.reset_index(),\n",
    "                right=test_history[test_history.reordered == 1],\n",
    "                how='left',\n",
    "                on=['user_id', 'order_number']\n",
    "            )[['user_id', 'product_id']],\n",
    "        right=test_orders[['user_id', 'order_id']],\n",
    "        how='left',\n",
    "        on='user_id'\n",
    "    ).fillna(-1).groupby('order_id')['product_id'].apply(lambda x: ' '.join([str(int(e)) for e in set(x)]) \n",
    "                                              ).reset_index().replace(to_replace='-1', value='None')\n",
    "    t.columns = ['order_id', 'products']\n",
    "    \n",
    "    # occasionally there is a bug where a line with order_id == -1 makes it through. doesn't *seem* to effect things\n",
    "    return t[t.order_id > 0].set_index('order_id')\n"
   ]
  },
  {
   "cell_type": "markdown",
   "metadata": {
    "_cell_guid": "41585f86-f34a-4994-9b30-100210869075",
    "_uuid": "2f487e23e95edfc75c178449316eb2e14df09e6d"
   },
   "source": [
    "### Run the above function for 4 folds...\n",
    "\n",
    "Strictly speaking, this model does not have any interdependance on the train set, but to provide a complete demonstration KFold is used anyway."
   ]
  },
  {
   "cell_type": "code",
   "execution_count": 13,
   "metadata": {
    "_cell_guid": "88c22954-02ab-45e7-a384-ecac075f3c25",
    "_execution_state": "idle",
    "_uuid": "a0ebaead341baf7831fd65168a9a1aaa21707b11",
    "collapsed": false
   },
   "outputs": [
    {
     "data": {
      "text/html": [
       "<div>\n",
       "<table border=\"1\" class=\"dataframe\">\n",
       "  <thead>\n",
       "    <tr style=\"text-align: right;\">\n",
       "      <th></th>\n",
       "      <th>products</th>\n",
       "    </tr>\n",
       "    <tr>\n",
       "      <th>order_id</th>\n",
       "      <th></th>\n",
       "    </tr>\n",
       "  </thead>\n",
       "  <tbody>\n",
       "    <tr>\n",
       "      <th>1</th>\n",
       "      <td>30881 5707 14947 43633</td>\n",
       "    </tr>\n",
       "    <tr>\n",
       "      <th>36</th>\n",
       "      <td>35939 24964 26629 44359 47734 16759 581</td>\n",
       "    </tr>\n",
       "    <tr>\n",
       "      <th>38</th>\n",
       "      <td>33731 8012</td>\n",
       "    </tr>\n",
       "    <tr>\n",
       "      <th>96</th>\n",
       "      <td>24489 27966</td>\n",
       "    </tr>\n",
       "    <tr>\n",
       "      <th>98</th>\n",
       "      <td>4357 43654 34065 19731 45204 33686 40986 8859 ...</td>\n",
       "    </tr>\n",
       "  </tbody>\n",
       "</table>\n",
       "</div>"
      ],
      "text/plain": [
       "                                                   products\n",
       "order_id                                                   \n",
       "1                                    30881 5707 14947 43633\n",
       "36                  35939 24964 26629 44359 47734 16759 581\n",
       "38                                               33731 8012\n",
       "96                                              24489 27966\n",
       "98        4357 43654 34065 19731 45204 33686 40986 8859 ..."
      ]
     },
     "execution_count": 13,
     "metadata": {},
     "output_type": "execute_result"
    }
   ],
   "source": [
    "import sklearn.model_selection\n",
    "\n",
    "cvpreds = []\n",
    "\n",
    "kf = sklearn.model_selection.KFold(4, shuffle=True, random_state=0)\n",
    "for train_index, test_index in kf.split(train_orders.index):\n",
    "    cvpreds.append(get_last_orders_reordered(train_orders.iloc[test_index]))\n",
    "\n",
    "df_cvpreds = pd.concat(cvpreds).sort_index()\n",
    "df_cvpreds.head()"
   ]
  },
  {
   "cell_type": "markdown",
   "metadata": {
    "_cell_guid": "0639d430-3617-4386-a2de-682f217fe831",
    "_uuid": "2d62ffa03dfaeeb22fd55a6f16c617caa644cde6"
   },
   "source": [
    "#### Now to produce output (indentical to original notebook, so submission is not necessary!)"
   ]
  },
  {
   "cell_type": "code",
   "execution_count": 14,
   "metadata": {
    "_cell_guid": "4cc97419-f1d0-4252-8e94-9b32e6084241",
    "_execution_state": "idle",
    "_uuid": "5e32d8328c61b35613ab2e2d8e429bc9144ee66b",
    "collapsed": true
   },
   "outputs": [],
   "source": [
    "test_preds = get_last_orders_reordered(orders[orders.eval_set == 2])\n",
    "test_preds.to_csv('cvtest-output.csv', encoding='utf-8')"
   ]
  },
  {
   "cell_type": "markdown",
   "metadata": {
    "_cell_guid": "f1ab14ca-297a-4d65-827f-d79d0c79ea7e",
    "_uuid": "6e64095337d0388a22d7479d06afacdf9888810a"
   },
   "source": [
    "# CV F1 validation code begins here"
   ]
  },
  {
   "cell_type": "markdown",
   "metadata": {
    "_cell_guid": "7cf5cacd-537c-4d25-a554-3983bb4131ae",
    "_uuid": "b2393930597f7d4b9065f0a96f5b04ff1634f836"
   },
   "source": [
    "### Produce an equivalent .csv + DataFrame to output with the train ground truth data"
   ]
  },
  {
   "cell_type": "code",
   "execution_count": 15,
   "metadata": {
    "_cell_guid": "66facd01-0fc3-4a4f-b15d-2d4cef8b3a4e",
    "_execution_state": "idle",
    "_uuid": "e35bb5ed7067c29b450c8603581b211bd542cd5c",
    "collapsed": true
   },
   "outputs": [],
   "source": [
    "try:\n",
    "    df_train_gt = pd.read_csv('train.csv', index_col='order_id')\n",
    "except:\n",
    "    train_gtl = []\n",
    "\n",
    "    for uid, subset in train_details.groupby('user_id'):\n",
    "        subset1 = subset[subset.reordered == 1]\n",
    "        oid = subset.order_id.values[0]\n",
    "\n",
    "        if len(subset1) == 0:\n",
    "            train_gtl.append((oid, 'None'))\n",
    "            continue\n",
    "\n",
    "        ostr = ' '.join([str(int(e)) for e in subset1.product_id.values])\n",
    "        # .strip is needed because join can have a padding space at the end\n",
    "        train_gtl.append((oid, ostr.strip()))\n",
    "\n",
    "    df_train_gt = pd.DataFrame(train_gtl)\n",
    "\n",
    "    df_train_gt.columns = ['order_id', 'products']\n",
    "    df_train_gt.set_index('order_id', inplace=True)\n",
    "    df_train_gt.sort_index(inplace=True)\n",
    "    \n",
    "    df_train_gt.to_csv('train.csv')"
   ]
  },
  {
   "cell_type": "markdown",
   "metadata": {
    "_cell_guid": "e2f83f9a-e6ae-4088-a1f2-f14b228eb8a2",
    "_uuid": "fc68b474d4d5571c92496268a25bec5b875d2961"
   },
   "source": [
    "### Now compare the ground truth and CV DataFrames"
   ]
  },
  {
   "cell_type": "code",
   "execution_count": 16,
   "metadata": {
    "_cell_guid": "02297e24-641c-4b9b-8600-6d22d9b9381e",
    "_execution_state": "idle",
    "_uuid": "3db6df57c236ed70aa50e0fe2bd93d110086f75d",
    "collapsed": false
   },
   "outputs": [
    {
     "name": "stdout",
     "output_type": "stream",
     "text": [
      "0.32558651711\n"
     ]
    }
   ],
   "source": [
    "f1 = []\n",
    "for gt, pred in zip(df_train_gt.sort_index().products, df_cvpreds.sort_index().products):\n",
    "    lgt = gt.replace(\"None\", \"-1\").split(' ')\n",
    "    lpred = pred.replace(\"None\", \"-1\").split(' ')\n",
    "    \n",
    "    rr = (np.intersect1d(lgt, lpred))\n",
    "    precision = np.float(len(rr)) / len(lpred)\n",
    "    recall = np.float(len(rr)) / len(lgt)\n",
    "\n",
    "    denom = precision + recall\n",
    "    f1.append(((2 * precision * recall) / denom) if denom > 0 else 0)\n",
    "\n",
    "print(np.mean(f1))"
   ]
  },
  {
   "cell_type": "markdown",
   "metadata": {
    "_cell_guid": "dd476939-f748-413c-9fb7-8c1d78d331a8",
    "_uuid": "ea36db58dfdd3dff89a416ab7aed82cbfe8d335c"
   },
   "source": [
    "#### The original is .327, so we've got a good validation!"
   ]
  }
 ],
 "metadata": {
  "kernelspec": {
   "display_name": "Python 2",
   "language": "python",
   "name": "python2"
  },
  "language_info": {
   "codemirror_mode": {
    "name": "ipython",
    "version": 2
   },
   "file_extension": ".py",
   "mimetype": "text/x-python",
   "name": "python",
   "nbconvert_exporter": "python",
   "pygments_lexer": "ipython2",
   "version": "2.7.13"
  }
 },
 "nbformat": 4,
 "nbformat_minor": 2
}
