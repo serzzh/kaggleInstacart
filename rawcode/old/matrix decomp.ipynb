{
  "nbformat_minor": 1,
  "metadata": {
    "language_info": {
      "name": "python",
      "version": "3.6.1",
      "mimetype": "text/x-python",
      "codemirror_mode": {
        "name": "ipython",
        "version": 3
      },
      "pygments_lexer": "ipython3",
      "nbconvert_exporter": "python",
      "file_extension": ".py"
    },
    "kernelspec": {
      "display_name": "Python 3",
      "language": "python",
      "name": "python3"
    }
  },
  "cells": [
    {
      "outputs": [],
      "metadata": {
        "_uuid": "01f0ca97a3b086c2dbe34c7b6c21343dfef2ee49",
        "_cell_guid": "fdfafc1f-a382-4b2f-be94-3c763c0b8840",
        "_execution_state": "idle"
      },
      "cell_type": "markdown",
      "execution_count": 1,
      "source": "# Non-Negative Matrix Factorization "
    },
    {
      "outputs": [],
      "metadata": {
        "_uuid": "ed4be901436e766ac034770ec93596deb466a352",
        "_cell_guid": "a912a72c-2c3a-4bd5-9da8-3e46221b22a5"
      },
      "cell_type": "markdown",
      "execution_count": null,
      "source": "I have been using matrix factorization and did not see a kernel running it, although it is quite possible I just missed it. This kernel joins the data provided to get the order history of different users, create an order counts matrix from that, and factor it into two lower dimension matrices. The new matrix could be used as additional feature columns and potentially improve LB scores. "
    },
    {
      "outputs": [],
      "metadata": {
        "collapsed": true,
        "_uuid": "8b0184cb4c8abe17d5db87a62eb8ce391eb9292b",
        "_cell_guid": "291cd429-8e55-47b1-8238-cf48abd4467a",
        "_execution_state": "busy",
        "trusted": false
      },
      "cell_type": "code",
      "execution_count": 1,
      "source": "import numpy as np\nimport pandas as pd\nimport matplotlib.pyplot as plt\nimport seaborn as sns\nfrom scipy.sparse import csr_matrix\nfrom collections import Counter"
    },
    {
      "outputs": [],
      "metadata": {
        "collapsed": true,
        "_uuid": "b2314593a209f23367347d7130880641232e45c2",
        "_cell_guid": "31e4a822-23ca-4cf9-906a-c4fe2d5a6dd3",
        "_execution_state": "busy",
        "trusted": false
      },
      "cell_type": "code",
      "execution_count": 2,
      "source": "order_prior = pd.read_csv(\"../input/order_products__prior.csv\")\norders = pd.read_csv(\"../input/orders.csv\")\ntrain = pd.read_csv(\"../input/order_products__train.csv\")\nproducts = pd.read_csv(\"../input/products.csv\")"
    },
    {
      "outputs": [],
      "metadata": {
        "_uuid": "ed22e6765e40d17e5fc922081d1fb21b41a0afca",
        "_cell_guid": "70e88a0d-d8c4-4b2e-9ec9-b8c8109317e0",
        "_execution_state": "busy",
        "trusted": false
      },
      "cell_type": "code",
      "execution_count": 3,
      "source": "test = orders[orders['eval_set']=='test']\nprior = orders[orders['eval_set']=='prior']\nprior.tail()"
    },
    {
      "outputs": [],
      "metadata": {
        "_uuid": "fdfc9f939a5f63cab7197b0b80ca92625395eca7",
        "_cell_guid": "1826ce11-e3c8-4f5c-90b1-e00ccbf80931"
      },
      "cell_type": "markdown",
      "execution_count": null,
      "source": "Match user_id of the prior part of the same orders table. That will give you the order history by user."
    },
    {
      "outputs": [],
      "metadata": {
        "_uuid": "f12f2fa10418698417ed523b7709c7c196013708",
        "_cell_guid": "e5551dc3-5f2d-4ea4-802e-8e199009105f",
        "_execution_state": "busy",
        "trusted": false
      },
      "cell_type": "code",
      "execution_count": 4,
      "source": "test = pd.merge(test, prior[['user_id', 'order_id', 'order_number']], on = 'user_id')\ntest.head()"
    },
    {
      "outputs": [],
      "metadata": {
        "_uuid": "390714e813a13cf96fc342f364a0fe4c03fae7c6",
        "_cell_guid": "153581d8-205f-4b98-968c-16a41bdf3f37"
      },
      "cell_type": "markdown",
      "execution_count": null,
      "source": "Merging with order history from order_prior table, ran on 16gb memory, but timed out here on 8gb so I am running a subset of the data below."
    },
    {
      "outputs": [],
      "metadata": {
        "collapsed": true,
        "_uuid": "969d549b29c7c2c25d1550c57530a0468aa7b826",
        "_cell_guid": "3f34f860-ad6e-4db5-977e-7ebbeb8b3000",
        "_execution_state": "busy",
        "trusted": false
      },
      "cell_type": "code",
      "execution_count": 5,
      "source": "test = pd.merge(test[0:100000], order_prior, left_on = 'order_id_y', right_on = 'order_id')\ntest['new_order_id'] = test['order_id_x']\ntest['prior_order_id'] = test['order_id_y']\ntest = test.drop(['order_id_x', 'order_id_y'], axis = 1)\ndel [orders, order_prior, train]\n"
    },
    {
      "outputs": [],
      "metadata": {
        "_uuid": "f42f756751ca88a5cf55dd3a10ab41227a71b20a",
        "_cell_guid": "53153708-c9e0-4694-a01a-99ddf0460051"
      },
      "cell_type": "markdown",
      "execution_count": null,
      "source": "Create the product list for each order with filtering in pandas. product_list represents reorders while all represents all items from an order.\n"
    },
    {
      "outputs": [],
      "metadata": {
        "_uuid": "aeff33237524a571b2e6a42cddef19d7e158e2f6",
        "_cell_guid": "930cf0ca-f5e5-4aef-a321-e82fe2661dfe",
        "_execution_state": "busy",
        "trusted": false
      },
      "cell_type": "code",
      "execution_count": 6,
      "source": "product_list = test[test['reordered']==1].groupby(['user_id', 'order_number_x', 'new_order_id'])['product_id'].apply(list)\nproduct_list = pd.DataFrame(product_list.reset_index())\nproduct_list['num_products_reordered'] = product_list.product_id.apply(len)\nproduct_list.head(15)"
    },
    {
      "outputs": [],
      "metadata": {
        "_uuid": "008dcb91d524bcba5ff1899aa3c3b672807e834c",
        "_cell_guid": "349e8bfc-e692-4d19-8332-164a452a9e5d"
      },
      "cell_type": "markdown",
      "execution_count": null,
      "source": " The output shows what one user's order history looks like."
    },
    {
      "outputs": [],
      "metadata": {
        "_uuid": "b856dedbb8b54f89d68983fb1647215918173aa0",
        "_cell_guid": "918b12da-3bb1-43c9-9242-913c27162037",
        "_execution_state": "busy",
        "trusted": false
      },
      "cell_type": "code",
      "execution_count": 7,
      "source": "test[(test['user_id'] == 4)]"
    },
    {
      "outputs": [],
      "metadata": {
        "_uuid": "d55ee2e7aebe90aeb1726b71a7d12aed2b0b2e33",
        "_cell_guid": "3d179100-5626-4ea6-88c8-f889b62327bf"
      },
      "cell_type": "markdown",
      "execution_count": null,
      "source": "To create the users x products count table loop through the prodcut ids data to as a sparse matrix (much more memory efficient), column position contains the product ids with position listed in a dict.\n"
    },
    {
      "outputs": [],
      "metadata": {
        "collapsed": true,
        "_uuid": "1b20c5d7d03bc7068558868a4136809476ea0d56",
        "_cell_guid": "38edbc45-b143-4e29-b608-371b1a4fbcdd",
        "_execution_state": "busy",
        "trusted": false
      },
      "cell_type": "code",
      "execution_count": 8,
      "source": "indptr = [0]\nindices = []\ndata = []\ncolumn_position = {}\n# input must be a list of lists\nfor order in product_list['product_id']:\n    for product in order:\n        index = column_position.setdefault(product, len(column_position))\n        indices.append(index)\n        data.append(1)\n    indptr.append(len(indices))\n    \nprod_matrix = csr_matrix((data, indices, indptr), dtype=int)\ndel(test)"
    },
    {
      "outputs": [],
      "metadata": {
        "_cell_guid": "3f656742-4bb5-411a-b5a8-f6e7515edc9c",
        "_uuid": "f43774a0b8f29f0e6931e5c38df306f091d24e1d",
        "trusted": false
      },
      "cell_type": "code",
      "execution_count": 17,
      "source": "prod_matrix.shape"
    },
    {
      "outputs": [],
      "metadata": {
        "_uuid": "5dee83d8a15b79c9e6039a3be2df4b6467b38927",
        "_cell_guid": "5e6ba0da-6797-42db-bcf3-13e4afe2f797"
      },
      "cell_type": "markdown",
      "execution_count": null,
      "source": "The problem with using the sparse matrix is that it is gigantic, after all there are a lot of users and a lot of products. Non-negative matrix decomposition is implemented in sklearn, use that to decompose the count matrix into two new matrices with considerably reduced dimensions. "
    },
    {
      "outputs": [],
      "metadata": {
        "_uuid": "89e553652d9efd9700943b8f116a3db0529d0a2e",
        "_cell_guid": "d19c3e81-d709-489c-bf25-fb1e219c41e5",
        "_execution_state": "busy",
        "trusted": false
      },
      "cell_type": "code",
      "execution_count": 9,
      "source": "from sklearn.decomposition import NMF\nfrom sklearn.preprocessing import normalize\n\nnmf = NMF(n_components = 100, random_state = 42)\nmodel = nmf.fit(prod_matrix)\nH = model.components_\nmodel.components_.shape"
    },
    {
      "outputs": [],
      "metadata": {
        "_uuid": "3d41b1db308abe81c23ecdfc7703686ce2384505",
        "_cell_guid": "0c4164e1-2693-40f9-a4ee-9bb654509099"
      },
      "cell_type": "markdown",
      "execution_count": null,
      "source": "What can I do with the results? For one, I could pick a random user and find users that have similar purchasing behavior. "
    },
    {
      "outputs": [],
      "metadata": {
        "_uuid": "ef611822d082166e84be006eabe9624e39bfb593",
        "_cell_guid": "0095ec21-cae0-4949-b97e-ebb92f05d6d7",
        "_execution_state": "busy",
        "trusted": false
      },
      "cell_type": "code",
      "execution_count": 10,
      "source": "W = model.transform(prod_matrix)\nuser_data = pd.DataFrame(normalize(W), index = product_list['user_id'])\nidx = user_data.dot(user_data.iloc[0]).nlargest(5).index\nuser_data.dot(user_data.iloc[0]).nlargest(5)"
    },
    {
      "outputs": [],
      "metadata": {
        "collapsed": true,
        "_uuid": "04f1a632da46100688f5d92c11826c5526f478f1",
        "_cell_guid": "91aed126-e843-4b8e-ba35-d11d8bf1e177",
        "_execution_state": "busy",
        "trusted": false
      },
      "cell_type": "code",
      "execution_count": 11,
      "source": "def prod_count(product_ids):\n\n    prod_count = {}\n    for item in product_ids:\n        if item not in prod_count.keys():\n            prod_count[item] = 1\n        elif item in prod_count.keys():\n            prod_count[item] += 1\n    return prod_count"
    },
    {
      "outputs": [],
      "metadata": {
        "_uuid": "327bf32f7a3e498fae869e761d064f4cde039e01",
        "_cell_guid": "da85dd9b-5724-4cb7-94ab-d8c92e86170d",
        "_execution_state": "busy",
        "trusted": false
      },
      "cell_type": "code",
      "execution_count": 12,
      "source": "similar_users = product_list[product_list.user_id.isin(idx)]\nsimilar_users"
    },
    {
      "outputs": [],
      "metadata": {
        "_uuid": "77379889f557938148c23f2d7023f520838e9bee",
        "_cell_guid": "5e5e94ac-0b9d-4eee-86a2-48fcfeceabd0",
        "_execution_state": "busy",
        "trusted": false
      },
      "cell_type": "code",
      "execution_count": 40,
      "source": "overlap = set(similar_users.product_id.iloc[0]) & set(similar_users.product_id.iloc[2])"
    },
    {
      "outputs": [],
      "metadata": {
        "collapsed": true,
        "_uuid": "0e83767c8ee44c4665ad33b1a111dc6ff4277f01",
        "_cell_guid": "abf83d72-b203-4a0a-96a4-62de459e4cb3",
        "_execution_state": "busy",
        "trusted": false
      },
      "cell_type": "code",
      "execution_count": 14,
      "source": "counts = similar_users.product_id.apply(prod_count)"
    },
    {
      "outputs": [],
      "metadata": {
        "_uuid": "8be67996a93e4dca3cd2108d1c65a3fbddfbdedc",
        "_cell_guid": "87990300-364b-460e-95ba-3211a53878ed"
      },
      "cell_type": "markdown",
      "execution_count": null,
      "source": "Here are there order counts:"
    },
    {
      "outputs": [],
      "metadata": {
        "_uuid": "ae4679adc3a59d65fe0bb1be9e11009157d5b246",
        "_cell_guid": "7b60f069-5183-4eb8-af1a-31f9c08a7a1e",
        "_execution_state": "busy",
        "trusted": false
      },
      "cell_type": "code",
      "execution_count": 31,
      "source": "def id_values(row, overlap):\n    for key, value in row.items():\n        if key in overlap:\n            print(key, value)"
    },
    {
      "outputs": [],
      "metadata": {
        "_cell_guid": "5ab6ff71-d3fb-43e9-8d79-849f09be1bd4",
        "_uuid": "720a55504be2ea86a144c01f7afff72449913839",
        "trusted": false
      },
      "cell_type": "code",
      "execution_count": 41,
      "source": "id_values(counts.iloc[0], overlap)"
    },
    {
      "outputs": [],
      "metadata": {
        "_uuid": "556dd05c820d73f22ba5d9d98b52fc6313de7e51",
        "_cell_guid": "ad498162-3da0-47fc-be33-f89dd71cb014",
        "_execution_state": "busy",
        "trusted": false
      },
      "cell_type": "code",
      "execution_count": null,
      "source": "id_values(counts.iloc[2], overlap)"
    },
    {
      "outputs": [],
      "metadata": {
        "_uuid": "0b1455c329b00c9c9f0afe611f8bbbe278f05006",
        "_cell_guid": "036b7e51-5a60-404d-aa65-075eb2b5cba2"
      },
      "cell_type": "markdown",
      "execution_count": null,
      "source": "Another benefit is that the W matrix contains latent information regarding the amount of each item a user has ordered in the past, but has vastly reduced dimensions. In other words, it doesn't keep each product as a column of the original user x product count matrix. I have yet to test this in creating predictions, but it should be a helpful way to keep track of user order counts per product. More to come!  "
    }
  ],
  "nbformat": 4
}